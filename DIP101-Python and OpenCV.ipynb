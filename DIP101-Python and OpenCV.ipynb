{
 "cells": [
  {
   "cell_type": "markdown",
   "metadata": {},
   "source": [
    "# Basics of Hands-on Digital Imaging Systems: "
   ]
  },
  {
   "cell_type": "markdown",
   "metadata": {},
   "source": [
    "Intro to Img processing and CV using Python"
   ]
  },
  {
   "cell_type": "code",
   "execution_count": 1,
   "metadata": {},
   "outputs": [],
   "source": [
    "import numpy as np\n",
    "import cv2 \n",
    "import matplotlib.pyplot as plt"
   ]
  },
  {
   "cell_type": "markdown",
   "metadata": {},
   "source": [
    "Some of the libraries used to aid image processing "
   ]
  },
  {
   "cell_type": "code",
   "execution_count": 2,
   "metadata": {},
   "outputs": [],
   "source": [
    "A = cv2.imread('C://filepath/picture.png',cv2.IMREAD_COLOR)"
   ]
  },
  {
   "cell_type": "markdown",
   "metadata": {},
   "source": [
    "Importing an image A by specifiying its path \\\\\\ is being used because \"\\\" was being interpreted as an escape sequence and python was throwing an error"
   ]
  },
  {
   "cell_type": "markdown",
   "metadata": {},
   "source": [
    "Here the loaded image is of B,G,R format and also has an Alpha channel which idk what it means..just how OpenCV works "
   ]
  },
  {
   "cell_type": "code",
   "execution_count": 3,
   "metadata": {},
   "outputs": [],
   "source": [
    "#cv2.imshow('myimage',A)\n",
    "#cv2.waitKey(0)\n",
    "#cv2.destroyAllWindows()"
   ]
  },
  {
   "cell_type": "code",
   "execution_count": 4,
   "metadata": {},
   "outputs": [
    {
     "name": "stdout",
     "output_type": "stream",
     "text": [
      "(539, 1500, 3)\n"
     ]
    }
   ],
   "source": [
    "print(A.shape)"
   ]
  },
  {
   "cell_type": "code",
   "execution_count": 5,
   "metadata": {},
   "outputs": [
    {
     "name": "stdout",
     "output_type": "stream",
     "text": [
      "uint8\n"
     ]
    }
   ],
   "source": [
    "print(A.dtype)"
   ]
  },
  {
   "cell_type": "markdown",
   "metadata": {},
   "source": [
    "image.dtype is very important while debugging because a large number of errors in OpenCV-Python code is caused by invalid datatype."
   ]
  },
  {
   "cell_type": "code",
   "execution_count": 6,
   "metadata": {},
   "outputs": [
    {
     "name": "stdout",
     "output_type": "stream",
     "text": [
      "[115, 99, 104, 97, 107, 114, 23]\n"
     ]
    }
   ],
   "source": [
    "a= 'abcdefg' #AnyCharacterOrID\n",
    "b= 23\n",
    "c=[]\n",
    "for i in a:\n",
    "    if type(i)==str:\n",
    "        c.append(ord(i))\n",
    "c.append(b)    \n",
    "print(c)"
   ]
  },
  {
   "cell_type": "code",
   "execution_count": 7,
   "metadata": {},
   "outputs": [],
   "source": [
    "blue,green,red = cv2.split(A)"
   ]
  },
  {
   "cell_type": "markdown",
   "metadata": {},
   "source": [
    "splitting the image into their color matrices so we can operate on them"
   ]
  },
  {
   "cell_type": "code",
   "execution_count": 8,
   "metadata": {},
   "outputs": [],
   "source": [
    "#cv2.imshow('blueMatrix', blue)\n",
    "#cv2.waitKey(0)\n",
    "#cv2.destroyAllWindows()"
   ]
  },
  {
   "cell_type": "code",
   "execution_count": 9,
   "metadata": {},
   "outputs": [
    {
     "name": "stdout",
     "output_type": "stream",
     "text": [
      "(539, 1500)\n"
     ]
    }
   ],
   "source": [
    "arrayBlue = np.array(blue)\n",
    "print(arrayBlue.shape)"
   ]
  },
  {
   "cell_type": "code",
   "execution_count": 10,
   "metadata": {},
   "outputs": [
    {
     "name": "stdout",
     "output_type": "stream",
     "text": [
      "(539, 1500)\n"
     ]
    }
   ],
   "source": [
    "arrayGreen = np.array(green)\n",
    "print(arrayGreen.shape)"
   ]
  },
  {
   "cell_type": "code",
   "execution_count": 11,
   "metadata": {},
   "outputs": [
    {
     "name": "stdout",
     "output_type": "stream",
     "text": [
      "1500\n"
     ]
    }
   ],
   "source": [
    "arrayRed = np.array(red)\n",
    "print(arrayRed.shape[1])"
   ]
  },
  {
   "cell_type": "code",
   "execution_count": 12,
   "metadata": {
    "scrolled": true
   },
   "outputs": [],
   "source": [
    "#print(arrayRed)"
   ]
  },
  {
   "cell_type": "code",
   "execution_count": 13,
   "metadata": {},
   "outputs": [],
   "source": [
    "#def findUnityID():115\n",
    "#count=0\n",
    "#for i in range(arrayRed.shape[0]):\n",
    "#    for j in range(arrayRed.shape[1]):\n",
    "#        if arrayRed[i][j]==300:\n",
    "#            count+=1\n",
    "#print(arrayRed[0][1499])       \n"
   ]
  },
  {
   "cell_type": "code",
   "execution_count": 14,
   "metadata": {},
   "outputs": [
    {
     "name": "stdout",
     "output_type": "stream",
     "text": [
      "[115, 99, 104, 97, 107, 114, 23]\n",
      "2534\n",
      "3028\n",
      "2816\n",
      "3063\n",
      "2657\n",
      "2639\n",
      "5465\n",
      "8.618921518325806\n"
     ]
    }
   ],
   "source": [
    "import time\n",
    "start = time.time()\n",
    "countRed=0\n",
    "ele_countred_dict={}\n",
    "print(c)\n",
    "for ele in c:\n",
    "    for i in range(arrayRed.shape[0]):\n",
    "        for j in range(arrayRed.shape[1]):\n",
    "             if arrayRed[i][j]==ele:\n",
    "                    countRed+=1\n",
    "    print(countRed)\n",
    "    ele_countred_dict[ele]={countRed}\n",
    "    countRed=0        \n",
    "#print()\n",
    "end = time.time()\n",
    "print(end - start)"
   ]
  },
  {
   "cell_type": "code",
   "execution_count": 15,
   "metadata": {},
   "outputs": [
    {
     "data": {
      "text/plain": [
       "{23: {5465},\n",
       " 97: {3063},\n",
       " 99: {3028},\n",
       " 104: {2816},\n",
       " 107: {2657},\n",
       " 114: {2639},\n",
       " 115: {2534}}"
      ]
     },
     "execution_count": 15,
     "metadata": {},
     "output_type": "execute_result"
    }
   ],
   "source": [
    "ele_countred_dict\n"
   ]
  },
  {
   "cell_type": "code",
   "execution_count": 16,
   "metadata": {},
   "outputs": [
    {
     "name": "stdout",
     "output_type": "stream",
     "text": [
      "[115, 99, 104, 97, 107, 114, 23]\n",
      "2096\n",
      "2691\n",
      "2546\n",
      "2807\n",
      "2448\n",
      "2057\n",
      "8267\n",
      "8.615177154541016\n"
     ]
    }
   ],
   "source": [
    "#padd Zeroes on A\n",
    "import time\n",
    "start = time.time()\n",
    "countBlue=0\n",
    "ele_countblue_dict={}\n",
    "print(c)\n",
    "for ele in c:\n",
    "    for i in range(arrayBlue.shape[0]):\n",
    "        for j in range(arrayBlue.shape[1]):\n",
    "             if arrayBlue[i][j]==ele:\n",
    "                    countBlue+=1\n",
    "                    #if pixels are among 4 edges \n",
    "                    #if pixels are among 4 corners\n",
    "                    #A[i-2:i+2][j-2:j+2][0]=255\n",
    "                    \n",
    "    print(countBlue)\n",
    "    ele_countblue_dict[ele]={countBlue}\n",
    "    countBlue=0        \n",
    "#print()\n",
    "end = time.time()\n",
    "print(end - start)\n"
   ]
  },
  {
   "cell_type": "code",
   "execution_count": null,
   "metadata": {},
   "outputs": [],
   "source": [
    "np.where(arrayRed==10)"
   ]
  },
  {
   "cell_type": "code",
   "execution_count": 17,
   "metadata": {},
   "outputs": [
    {
     "name": "stdout",
     "output_type": "stream",
     "text": [
      "2534\n",
      "3028\n",
      "2816\n",
      "3063\n",
      "2657\n",
      "2639\n",
      "5465\n",
      "0.031207561492919922\n"
     ]
    }
   ],
   "source": [
    "import time\n",
    "start = time.time()\n",
    "countBlue=0\n",
    "ele_countblue_dict={}\n",
    "#print(c)\n",
    "for ele in c:\n",
    "    I=np.where(arrayRed==ele)\n",
    "    print(len(I[0]))\n",
    "\n",
    "end = time.time()\n",
    "print(end - start)"
   ]
  },
  {
   "cell_type": "code",
   "execution_count": 18,
   "metadata": {},
   "outputs": [
    {
     "data": {
      "text/plain": [
       "5465"
      ]
     },
     "execution_count": 18,
     "metadata": {},
     "output_type": "execute_result"
    }
   ],
   "source": [
    "len(I[0])"
   ]
  },
  {
   "cell_type": "code",
   "execution_count": 19,
   "metadata": {},
   "outputs": [
    {
     "data": {
      "text/plain": [
       "5465"
      ]
     },
     "execution_count": 19,
     "metadata": {},
     "output_type": "execute_result"
    }
   ],
   "source": [
    "len(I[1])"
   ]
  },
  {
   "cell_type": "code",
   "execution_count": 20,
   "metadata": {},
   "outputs": [
    {
     "data": {
      "text/plain": [
       "{}"
      ]
     },
     "execution_count": 20,
     "metadata": {},
     "output_type": "execute_result"
    }
   ],
   "source": [
    "ele_countblue_dict"
   ]
  },
  {
   "cell_type": "code",
   "execution_count": 21,
   "metadata": {},
   "outputs": [
    {
     "name": "stdout",
     "output_type": "stream",
     "text": [
      "[115, 99, 104, 97, 107, 114, 23]\n",
      "3170\n",
      "3438\n",
      "3308\n",
      "3472\n",
      "3363\n",
      "3080\n",
      "5715\n"
     ]
    }
   ],
   "source": [
    "countGreen=0\n",
    "ele_countgreen_dict={}\n",
    "print(c)\n",
    "for ele in c:\n",
    "    for i in range(arrayGreen.shape[0]):\n",
    "        for j in range(arrayGreen.shape[1]):\n",
    "             if arrayGreen[i][j]==ele:\n",
    "                    countGreen+=1\n",
    "                    #if pixels are among 4 edges \n",
    "                    #if pixels are among 4 corners\n",
    "                    #A[i-2:i+2][j-2:j+2][0]=255\n",
    "                    \n",
    "    print(countGreen)\n",
    "    ele_countgreen_dict[ele]={countGreen}\n",
    "    countGreen=0        \n"
   ]
  },
  {
   "cell_type": "code",
   "execution_count": 22,
   "metadata": {},
   "outputs": [
    {
     "data": {
      "text/plain": [
       "{23: {5715},\n",
       " 97: {3472},\n",
       " 99: {3438},\n",
       " 104: {3308},\n",
       " 107: {3363},\n",
       " 114: {3080},\n",
       " 115: {3170}}"
      ]
     },
     "execution_count": 22,
     "metadata": {},
     "output_type": "execute_result"
    }
   ],
   "source": [
    "ele_countgreen_dict"
   ]
  },
  {
   "cell_type": "code",
   "execution_count": 23,
   "metadata": {},
   "outputs": [],
   "source": [
    "cv2.imshow('myimage',A)\n",
    "cv2.waitKey(0)\n",
    "cv2.destroyAllWindows()"
   ]
  },
  {
   "cell_type": "code",
   "execution_count": 24,
   "metadata": {},
   "outputs": [],
   "source": [
    "A1= cv2.copyMakeBorder(A, 2,2,2,2,cv2.BORDER_CONSTANT,value=0)"
   ]
  },
  {
   "cell_type": "code",
   "execution_count": 25,
   "metadata": {},
   "outputs": [],
   "source": [
    "cv2.imshow('myimage',A1)\n",
    "cv2.waitKey(0)\n",
    "cv2.destroyAllWindows()"
   ]
  },
  {
   "cell_type": "code",
   "execution_count": 26,
   "metadata": {},
   "outputs": [],
   "source": [
    "blue,green,red = cv2.split(A1)"
   ]
  },
  {
   "cell_type": "code",
   "execution_count": 27,
   "metadata": {},
   "outputs": [],
   "source": [
    "arrayBlue = np.array(blue)\n",
    "arrayGreen = np.array(green)\n",
    "arrayRed = np.array(red)\n"
   ]
  },
  {
   "cell_type": "code",
   "execution_count": 28,
   "metadata": {},
   "outputs": [
    {
     "name": "stdout",
     "output_type": "stream",
     "text": [
      "[115, 99, 104, 97, 107, 114, 23]\n",
      "2096\n",
      "2691\n",
      "2546\n",
      "2807\n",
      "2448\n",
      "2057\n",
      "8267\n"
     ]
    }
   ],
   "source": [
    "countBlue=0\n",
    "ele_countblue_dict={}\n",
    "print(c)\n",
    "for ele in c:\n",
    "    for i in range(arrayBlue.shape[0]):\n",
    "        for j in range(arrayBlue.shape[1]):\n",
    "             if arrayBlue[i][j]==ele:\n",
    "                    countBlue+=1\n",
    "                    A1[i-2:i+2][j-2:j+2]=255\n",
    "                    #if pixels are among 4 edges \n",
    "                    #if pixels are among 4 corners\n",
    "                    #A[i-2:i+2][j-2:j+2][0]=255\n",
    "                    \n",
    "    print(countBlue)\n",
    "    ele_countblue_dict[ele]={countBlue}\n",
    "    countBlue=0        \n"
   ]
  },
  {
   "cell_type": "code",
   "execution_count": 29,
   "metadata": {},
   "outputs": [
    {
     "data": {
      "text/plain": [
       "<function destroyAllWindows>"
      ]
     },
     "execution_count": 29,
     "metadata": {},
     "output_type": "execute_result"
    }
   ],
   "source": [
    "cv2.imshow(\"allpadded\",A)\n",
    "cv2.waitKey(0)\n",
    "cv2.destroyAllWindows"
   ]
  },
  {
   "cell_type": "code",
   "execution_count": null,
   "metadata": {},
   "outputs": [],
   "source": []
  }
 ],
 "metadata": {
  "kernelspec": {
   "display_name": "Python 3",
   "language": "python",
   "name": "python3"
  },
  "language_info": {
   "codemirror_mode": {
    "name": "ipython",
    "version": 3
   },
   "file_extension": ".py",
   "mimetype": "text/x-python",
   "name": "python",
   "nbconvert_exporter": "python",
   "pygments_lexer": "ipython3",
   "version": "3.6.3"
  }
 },
 "nbformat": 4,
 "nbformat_minor": 2
}
